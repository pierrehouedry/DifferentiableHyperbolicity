{
 "cells": [
  {
   "cell_type": "code",
   "execution_count": 7,
   "id": "8ca2d6e6",
   "metadata": {},
   "outputs": [],
   "source": [
    "import numpy as np\n",
    "import pandas as pd\n",
    "import pickle\n",
    "from hyperbolicity.tree_fitting_methods.hccfit import HccLinkage\n",
    "from hyperbolicity.tree_fitting_methods.gromov import gromov_tree\n",
    "from hyperbolicity.tree_fitting_methods.neighbor_joining import NJ\n",
    "from hyperbolicity.tree_fitting_methods.treerep import TreeRep\n",
    "from hyperbolicity.delta import compute_exact_hyperbolicity_naive\n",
    "import torch\n",
    "import networkx as nx"
   ]
  },
  {
   "cell_type": "code",
   "execution_count": 2,
   "id": "970ed93e",
   "metadata": {},
   "outputs": [
    {
     "name": "stdout",
     "output_type": "stream",
     "text": [
      "Dataset Loaded\n"
     ]
    }
   ],
   "source": [
    "path_dataset = '/share/home/houedry/projects/DifferentiableHyperbolicity/hyperbolicity/datasets/D_diseases.pkl'\n",
    "\n",
    "with open(path_dataset, 'rb') as f:\n",
    "    distances = pickle.load(f)\n",
    "\n",
    "print('Dataset Loaded')"
   ]
  },
  {
   "cell_type": "code",
   "execution_count": null,
   "id": "a2e9f07e",
   "metadata": {},
   "outputs": [],
   "source": [
    "compute_exact_hyperbolicity_naive(torch.tensor(distances))"
   ]
  },
  {
   "cell_type": "code",
   "execution_count": 3,
   "id": "dfcf02c0",
   "metadata": {},
   "outputs": [
    {
     "name": "stdout",
     "output_type": "stream",
     "text": [
      "NJ Tree Distortion: 0.0000\n"
     ]
    }
   ],
   "source": [
    "N = distances.shape[0]\n",
    "#NJ\n",
    "tree_nj = NJ(distances)\n",
    "tree_nj_distances = nx.floyd_warshall_numpy(tree_nj)\n",
    "distortion_nj = np.abs(tree_nj_distances[:N, :N]-distances).max()\n",
    "print(f\"NJ Tree Distortion: {distortion_nj:.4f}\")"
   ]
  },
  {
   "cell_type": "code",
   "execution_count": null,
   "id": "7e1e8154",
   "metadata": {},
   "outputs": [],
   "source": [
    "#TreeRep\n",
    "denom = N * (N - 1)\n",
    "tr_l1_errors = []\n",
    "tr_distortions = []\n",
    "for _ in range(100):\n",
    "    tree_TR = TreeRep(distances)\n",
    "    tree_TR.learn_tree()\n",
    "    tree_TR_distances = nx.floyd_warshall_numpy(tree_TR.G)\n",
    "    tr_distortions.append(np.abs(tree_TR_distances[:N, :N] - distances).max())\n",
    "    tr_l1_errors.append(np.abs(tree_TR_distances[:N, :N] - distances).sum() / denom)\n",
    "\n",
    "print(\"TreeRep Results:\")\n",
    "print(f\"Mean L1 Error: {np.mean(tr_l1_errors):.4f}, Std L1 Error: {np.std(tr_l1_errors):.4f}\")\n",
    "print(f\"Mean Distortion: {np.mean(tr_distortions):.4f}, Std Distortion: {np.std(tr_distortions):.4f}\")"
   ]
  },
  {
   "cell_type": "code",
   "execution_count": null,
   "id": "922c550f",
   "metadata": {},
   "outputs": [],
   "source": [
    "np.random.seed(42)\n",
    "indices = np.random.choice(N, size=100, replace=False)\n",
    "\n",
    "#HCC\n",
    "hcc_l1_errors = []\n",
    "hcc_distortions = []\n",
    "denom = N * (N - 1)\n",
    "\n",
    "for root in indices:\n",
    "    tree_hcc = HccLinkage(distances)\n",
    "    tree_hcc.fit_tree(root)\n",
    "    hcc_distortions.append(np.abs(tree_hcc.d_T - distances).max())\n",
    "    hcc_l1_errors.append(np.abs(tree_hcc.d_T - distances).sum() / denom)\n",
    "\n",
    "print(\"HCC Linkage Results:\")\n",
    "print(f\"Mean L1 Error: {np.mean(hcc_l1_errors):.4f}, Std L1 Error: {np.std(hcc_l1_errors):.4f}\")\n",
    "print(f\"Mean Distortion: {np.mean(hcc_distortions):.4f}, Std Distortion: {np.std(hcc_distortions):.4f}\")"
   ]
  },
  {
   "cell_type": "code",
   "execution_count": null,
   "id": "6505f8b6",
   "metadata": {},
   "outputs": [],
   "source": [
    "#Gromov\n",
    "gromov_l1_errors = []\n",
    "gromov_distortions = []\n",
    "\n",
    "for root in indices:\n",
    "    tree_gromov = gromov_tree(distances, root)\n",
    "    gromov_distortions.append(np.abs(tree_gromov - distances).max())\n",
    "    gromov_l1_errors.append(np.abs(tree_gromov - distances).sum() / denom)\n",
    "\n",
    "print(\"\\nGromov Tree Results:\")\n",
    "print(f\"Mean L1 Error: {np.mean(gromov_l1_errors):.4f}, Std L1 Error: {np.std(gromov_l1_errors):.4f}\")\n",
    "print(f\"Mean Distortion: {np.mean(gromov_distortions):.4f}, Std Distortion: {np.std(gromov_distortions):.4f}\")"
   ]
  }
 ],
 "metadata": {
  "kernelspec": {
   "display_name": "hyperenv_py311",
   "language": "python",
   "name": "python3"
  },
  "language_info": {
   "codemirror_mode": {
    "name": "ipython",
    "version": 3
   },
   "file_extension": ".py",
   "mimetype": "text/x-python",
   "name": "python",
   "nbconvert_exporter": "python",
   "pygments_lexer": "ipython3",
   "version": "3.11.8"
  }
 },
 "nbformat": 4,
 "nbformat_minor": 5
}
