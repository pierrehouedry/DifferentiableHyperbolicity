{
 "cells": [
  {
   "cell_type": "code",
   "execution_count": 1,
   "id": "1be7b1a3",
   "metadata": {},
   "outputs": [],
   "source": [
    "import numpy as np\n",
    "import matplotlib.pyplot as plt\n",
    "import networkx as nx\n",
    "from scipy.cluster.hierarchy import linkage, dendrogram, fcluster\n",
    "from scipy.spatial.distance import squareform\n",
    "from sklearn.metrics import accuracy_score\n",
    "from scipy.optimize import linear_sum_assignment\n",
    "from hyperbolicity.tree_fitting_methods.hdtree import hdtree\n",
    "from hyperbolicity.delta import compute_exact_hyperbolicity_naive\n",
    "import torch\n",
    "import numpy as np\n",
    "import matplotlib.pyplot as plt\n",
    "import networkx as nx\n",
    "from scipy.cluster.hierarchy import linkage, dendrogram, fcluster\n",
    "from hyperbolicity.tree_fitting_methods.hyperbolicity_learning import train_distance_matrix\n",
    "from hyperbolicity.tree_fitting_methods.gromov import gromov_tree\n",
    "from hyperbolicity.utils import construct_weighted_matrix\n",
    "from scipy.optimize import linear_sum_assignment\n",
    "from sklearn.metrics import confusion_matrix\n",
    "from sklearn.cluster import AgglomerativeClustering\n",
    "from sklearn.metrics import adjusted_rand_score\n",
    "from hyperbolicity.tree_fitting_methods.neighbor_joining import NJ"
   ]
  },
  {
   "cell_type": "code",
   "execution_count": 8,
   "id": "a2807f4b",
   "metadata": {
    "vscode": {
     "languageId": "shellscript"
    }
   },
   "outputs": [
    {
     "name": "stdout",
     "output_type": "stream",
     "text": [
      "802.8057606220245\n"
     ]
    }
   ],
   "source": [
    "# Load the PyTorch file\n",
    "checkpoint_path = '/share/home/houedry/projects/DifferentiableHyperbolicity/hyperbolicity/expes/results_expes/D_zeisel_2025-05-07_14-49-13/lr_0.001_dr_0.1_sd_10.0_epoch_2000_batch_32_n_batches_100.pt'\n",
    "checkpoint = torch.load(checkpoint_path)\n",
    "\n",
    "# Print the 'duration' key\n",
    "print(checkpoint['duration'])"
   ]
  },
  {
   "cell_type": "code",
   "execution_count": 8,
   "id": "945be74a",
   "metadata": {},
   "outputs": [],
   "source": [
    "import pandas as pd\n",
    "import networkx as nx\n",
    "\n",
    "# Load the CSV file into a pandas DataFrame\n",
    "csv_path = '/share/home/houedry/projects/DifferentiableHyperbolicity/hyperbolicity/datasets/ca-CSphd.csv'\n",
    "df_edges = pd.read_csv(csv_path)\n",
    "\n",
    "# Create a NetworkX graph from the DataFrame\n",
    "# Assuming the CSV has columns 'source' and 'target' for edges\n",
    "G = nx.from_pandas_edgelist(df_edges, source='id1', target='id2')\n",
    "\n",
    "# Print basic information about the graph"
   ]
  },
  {
   "cell_type": "code",
   "execution_count": 9,
   "id": "c8a89650",
   "metadata": {},
   "outputs": [
    {
     "name": "stdout",
     "output_type": "stream",
     "text": [
      "Maximum degree: 46\n",
      "Minimum degree: 1\n"
     ]
    }
   ],
   "source": [
    "degrees = [deg for _, deg in G.degree()]\n",
    "max_degree = max(degrees)\n",
    "min_degree = min(degrees)\n",
    "\n",
    "print(f\"Maximum degree: {max_degree}\")\n",
    "print(f\"Minimum degree: {min_degree}\")"
   ]
  },
  {
   "cell_type": "code",
   "execution_count": 10,
   "id": "25a50a1b",
   "metadata": {},
   "outputs": [
    {
     "name": "stdout",
     "output_type": "stream",
     "text": [
      "Diameter of the graph: 28\n"
     ]
    }
   ],
   "source": [
    "diameter = nx.diameter(G)\n",
    "print(f\"Diameter of the graph: {diameter}\")"
   ]
  },
  {
   "cell_type": "code",
   "execution_count": 11,
   "id": "37efc97f",
   "metadata": {},
   "outputs": [
    {
     "name": "stdout",
     "output_type": "stream",
     "text": [
      "[[0. 2. 2. ... 2. 2. 2.]\n",
      " [2. 0. 1. ... 2. 2. 2.]\n",
      " [2. 1. 0. ... 2. 2. 2.]\n",
      " ...\n",
      " [2. 2. 2. ... 0. 2. 2.]\n",
      " [2. 2. 2. ... 2. 0. 2.]\n",
      " [2. 2. 2. ... 2. 2. 0.]]\n"
     ]
    }
   ],
   "source": [
    "import pickle\n",
    "\n",
    "# Load the pickle file\n",
    "with open('/share/home/houedry/projects/DifferentiableHyperbolicity/hyperbolicity/datasets/D_celegan.pkl', 'rb') as file:\n",
    "    data = pickle.load(file)\n",
    "\n",
    "# Print or inspect the loaded data\n",
    "print(data)"
   ]
  },
  {
   "cell_type": "code",
   "execution_count": 5,
   "id": "41344616",
   "metadata": {},
   "outputs": [
    {
     "data": {
      "text/plain": [
       "7.0"
      ]
     },
     "execution_count": 5,
     "metadata": {},
     "output_type": "execute_result"
    }
   ],
   "source": [
    "np.max(data)"
   ]
  },
  {
   "cell_type": "code",
   "execution_count": 6,
   "id": "3debea6e",
   "metadata": {},
   "outputs": [
    {
     "data": {
      "text/plain": [
       "6.113682179832231"
      ]
     },
     "execution_count": 6,
     "metadata": {},
     "output_type": "execute_result"
    }
   ],
   "source": [
    "np.log(452)"
   ]
  },
  {
   "cell_type": "code",
   "execution_count": 12,
   "id": "528a5c36",
   "metadata": {},
   "outputs": [],
   "source": [
    "def gromov_product_tensor(metric):\n",
    "    \"\"\"\n",
    "    Computes all Gromov products (i·j)_k for all triplets (i, j, k).\n",
    "\n",
    "    Parameters:\n",
    "        metric (torch.Tensor): A (N x N) distance matrix.\n",
    "\n",
    "    Returns:\n",
    "        torch.Tensor: A (N x N x N) tensor where result[i, j, k] = (i·j)_k.\n",
    "    \"\"\"\n",
    "    d_ik = metric.unsqueeze(1)  # shape: (N, 1, N)\n",
    "    d_jk = metric.unsqueeze(0)  # shape: (1, N, N)\n",
    "    d_ij = metric.unsqueeze(2)  # shape: (N, N, 1)\n",
    "\n",
    "    gromov = (d_ik + d_jk - d_ij) / 2\n",
    "    return gromov.flatten()"
   ]
  },
  {
   "cell_type": "code",
   "execution_count": 13,
   "id": "d58c02d0",
   "metadata": {},
   "outputs": [],
   "source": [
    "gp = gromov_product_tensor(torch.tensor(data).to('cuda'))"
   ]
  },
  {
   "cell_type": "code",
   "execution_count": 14,
   "id": "9c66481f",
   "metadata": {},
   "outputs": [
    {
     "data": {
      "text/plain": [
       "92345408"
      ]
     },
     "execution_count": 14,
     "metadata": {},
     "output_type": "execute_result"
    }
   ],
   "source": [
    "len(gp)"
   ]
  },
  {
   "cell_type": "code",
   "execution_count": 15,
   "id": "c7bd18d3",
   "metadata": {},
   "outputs": [
    {
     "data": {
      "text/plain": [
       "15"
      ]
     },
     "execution_count": 15,
     "metadata": {},
     "output_type": "execute_result"
    }
   ],
   "source": [
    "len(torch.unique(gp))"
   ]
  },
  {
   "cell_type": "code",
   "execution_count": 16,
   "id": "31289cc7",
   "metadata": {},
   "outputs": [
    {
     "name": "stdout",
     "output_type": "stream",
     "text": [
      "Log-normal fit parameters: shape=0.4126, loc=0.0000, scale=1.2387\n",
      "Fitted log-normal mean: 1.3487\n",
      "Fitted log-normal variance: 0.3376\n",
      "MSE between histogram and fitted PDF: 0.014309\n"
     ]
    },
    {
     "data": {
      "image/png": "[encoded data removed]",
      "text/plain": [
       "<Figure size 640x480 with 1 Axes>"
      ]
     },
     "metadata": {},
     "output_type": "display_data"
    }
   ],
   "source": [
    "import numpy as np\n",
    "import matplotlib.pyplot as plt\n",
    "from scipy.stats import lognorm\n",
    "\n",
    "gp_cpu = gp.cpu().numpy()\n",
    "gp_cpu = gp_cpu[gp_cpu > 0]\n",
    "\n",
    "# Fit a log-normal distribution to the data\n",
    "shape, loc, scale = lognorm.fit(gp_cpu, floc=0)  # fixing loc=0 for canonical log-normal\n",
    "\n",
    "# Compute mean and variance of the fitted distribution\n",
    "mean = lognorm.mean(shape, loc=loc, scale=scale)\n",
    "variance = lognorm.var(shape, loc=loc, scale=scale)\n",
    "\n",
    "# Compute histogram (normalized to form a density)\n",
    "counts, bins = np.histogram(gp_cpu, bins=15, density=True)\n",
    "bin_centers = (bins[:-1] + bins[1:]) / 2\n",
    "\n",
    "# Evaluate PDF at bin centers\n",
    "pdf_vals = lognorm.pdf(bin_centers, shape, loc=loc, scale=scale)\n",
    "\n",
    "# Compute Mean Squared Error\n",
    "mse = np.mean((counts - pdf_vals) ** 2)\n",
    "\n",
    "# Display results\n",
    "print(f\"Log-normal fit parameters: shape={shape:.4f}, loc={loc:.4f}, scale={scale:.4f}\")\n",
    "print(f\"Fitted log-normal mean: {mean:.4f}\")\n",
    "print(f\"Fitted log-normal variance: {variance:.4f}\")\n",
    "print(f\"MSE between histogram and fitted PDF: {mse:.6f}\")\n",
    "\n",
    "# Plot histogram and fitted PDF\n",
    "x = np.linspace(min(gp_cpu), max(gp_cpu), 1000)\n",
    "pdf = lognorm.pdf(x, shape, loc=loc, scale=scale)\n",
    "\n",
    "plt.hist(gp_cpu, bins=15, edgecolor='black', alpha=0.7, density=True, label='Histogram')\n",
    "plt.plot(x, pdf, 'r-', label='Fitted Log-normal PDF')\n",
    "plt.xlabel('Gromov Product Values')\n",
    "plt.ylabel('Density')\n",
    "plt.title('Histogram and Fitted Log-normal PDF')\n",
    "plt.legend()\n",
    "plt.show()\n"
   ]
  },
  {
   "cell_type": "code",
   "execution_count": null,
   "id": "7c7bf2a2",
   "metadata": {},
   "outputs": [],
   "source": []
  }
 ],
 "metadata": {
  "kernelspec": {
   "display_name": "hyperenv_py311",
   "language": "python",
   "name": "python3"
  },
  "language_info": {
   "codemirror_mode": {
    "name": "ipython",
    "version": 3
   },
   "file_extension": ".py",
   "mimetype": "text/x-python",
   "name": "python",
   "nbconvert_exporter": "python",
   "pygments_lexer": "ipython3",
   "version": "3.11.8"
  }
 },
 "nbformat": 4,
 "nbformat_minor": 5
}
