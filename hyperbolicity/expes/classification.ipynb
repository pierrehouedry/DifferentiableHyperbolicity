{
 "cells": [
  {
   "cell_type": "code",
   "execution_count": 190,
   "id": "dda6a6c7",
   "metadata": {},
   "outputs": [],
   "source": [
    "import numpy as np\n",
    "import matplotlib.pyplot as plt\n",
    "import networkx as nx\n",
    "from scipy.cluster.hierarchy import linkage, dendrogram, fcluster\n",
    "from scipy.spatial.distance import squareform\n",
    "from sklearn.metrics import accuracy_score\n",
    "from scipy.optimize import linear_sum_assignment\n",
    "from hyperbolicity.tree_fitting_methods.hdtree import hdtree\n",
    "from hyperbolicity.delta import compute_exact_hyperbolicity_naive\n",
    "import torch\n",
    "import numpy as np\n",
    "import matplotlib.pyplot as plt\n",
    "import networkx as nx\n",
    "from scipy.cluster.hierarchy import linkage, dendrogram, fcluster\n",
    "from hyperbolicity.tree_fitting_methods.hyperbolicity_learning import train_distance_matrix\n",
    "from hyperbolicity.tree_fitting_methods.gromov import gromov_tree\n",
    "from hyperbolicity.utils import construct_weighted_matrix\n",
    "from scipy.optimize import linear_sum_assignment\n",
    "from sklearn.metrics import confusion_matrix"
   ]
  },
  {
   "cell_type": "code",
   "execution_count": 191,
   "id": "7a4e3070",
   "metadata": {},
   "outputs": [],
   "source": [
    "sizes = [15, 15, 15]\n",
    "probs = [[0.6, 0.15, 0.15],\n",
    "         [0.15, 0.6, 0.15],\n",
    "         [0.15, 0.15, 0.6]]\n",
    "G = nx.stochastic_block_model(sizes, probs)\n",
    "true_labels = np.array([G.nodes[i]['block'] for i in range(n)])\n",
    "\"\"\" n = len(G.nodes)\n",
    "print(nx.diameter(G))\n",
    "n = G.number_of_nodes()\n",
    "G.add_node(n)\n",
    "for j in range(n+1):\n",
    "    G.add_weighted_edges_from([(j, n, 100)]) \"\"\"\n",
    "\n",
    "dist_matrix = nx.floyd_warshall_numpy(G)"
   ]
  },
  {
   "cell_type": "code",
   "execution_count": 192,
   "id": "be5ecaaa",
   "metadata": {},
   "outputs": [],
   "source": [
    "#tree_opt = hdtree(torch.tensor(dist_matrix), 44, 0.1, 1, 44, 100.0, 20, 200, True, True)"
   ]
  },
  {
   "cell_type": "code",
   "execution_count": 193,
   "id": "66ca4c3b",
   "metadata": {},
   "outputs": [
    {
     "name": "stderr",
     "output_type": "stream",
     "text": [
      "loss = 1.00869, delta = 0.92471, error = 0.00420: 100%|██████████| 200/200 [00:09<00:00, 21.85it/s]\n"
     ]
    }
   ],
   "source": [
    "best_weights, losses, deltas, errors, duration = train_distance_matrix(torch.tensor(dist_matrix), 100.0, 20.0, 200, 1, 45, 0.1, True, True)"
   ]
  },
  {
   "cell_type": "code",
   "execution_count": 194,
   "id": "5cbd01f0",
   "metadata": {},
   "outputs": [],
   "source": [
    "num_nodes = dist_matrix.shape[0]\n",
    "edges = torch.triu_indices(num_nodes, num_nodes, offset=1)\n",
    "distance_optimized = construct_weighted_matrix(best_weights, num_nodes, edges)"
   ]
  },
  {
   "cell_type": "code",
   "execution_count": 195,
   "id": "3166370d",
   "metadata": {},
   "outputs": [],
   "source": [
    "new_row = torch.full((1, distance_optimized.shape[1]), 50)\n",
    "distance_optimized_node = torch.cat((distance_optimized, new_row), dim=0)\n",
    "new_column = torch.full((distance_optimized_node.shape[0], 1), 50)\n",
    "distance_optimized_node = torch.cat((distance_optimized_node, new_column), dim=1)\n",
    "distance_optimized_node[-1,-1] = 0"
   ]
  },
  {
   "cell_type": "code",
   "execution_count": 196,
   "id": "5d23cbb1",
   "metadata": {},
   "outputs": [],
   "source": [
    "tree_opt = gromov_tree(distance_optimized_node.numpy(), num_nodes)"
   ]
  },
  {
   "cell_type": "code",
   "execution_count": 197,
   "id": "bf71ae29",
   "metadata": {},
   "outputs": [
    {
     "data": {
      "text/plain": [
       "<matplotlib.image.AxesImage at 0x7f09d9c61810>"
      ]
     },
     "execution_count": 197,
     "metadata": {},
     "output_type": "execute_result"
    },
    {
     "data": {
      "image/png": "[encoded data removed]",
      "text/plain": [
       "<Figure size 640x480 with 1 Axes>"
      ]
     },
     "metadata": {},
     "output_type": "display_data"
    }
   ],
   "source": [
    "plt.imshow(tree_opt[:-1, :-1])"
   ]
  },
  {
   "cell_type": "code",
   "execution_count": 198,
   "id": "c685fde9",
   "metadata": {},
   "outputs": [
    {
     "data": {
      "text/plain": [
       "<matplotlib.image.AxesImage at 0x7f09d9b56990>"
      ]
     },
     "execution_count": 198,
     "metadata": {},
     "output_type": "execute_result"
    },
    {
     "data": {
      "image/png": "[encoded data removed]",
      "text/plain": [
       "<Figure size 640x480 with 1 Axes>"
      ]
     },
     "metadata": {},
     "output_type": "display_data"
    }
   ],
   "source": [
    "plt.imshow(dist_matrix[:-1, :-1])"
   ]
  },
  {
   "cell_type": "code",
   "execution_count": 199,
   "id": "f2a3c62c",
   "metadata": {},
   "outputs": [
    {
     "name": "stdout",
     "output_type": "stream",
     "text": [
      "0.8444444444444444\n",
      "0.8888888888888888\n"
     ]
    },
    {
     "name": "stderr",
     "output_type": "stream",
     "text": [
      "/tmp/ipykernel_3910380/428073159.py:1: ClusterWarning: The symmetric non-negative hollow observation matrix looks suspiciously like an uncondensed distance matrix\n",
      "  Z1 = linkage(dist_matrix, method='ward')\n",
      "/tmp/ipykernel_3910380/428073159.py:2: ClusterWarning: The symmetric non-negative hollow observation matrix looks suspiciously like an uncondensed distance matrix\n",
      "  Z2 = linkage(tree_opt[:-1,:-1], method='ward')\n"
     ]
    }
   ],
   "source": [
    "Z1 = linkage(dist_matrix, method='ward')\n",
    "Z2 = linkage(tree_opt[:-1,:-1], method='ward')\n",
    "cluster_labels1 = fcluster(Z1, t=3, criterion='maxclust') \n",
    "cluster_labels2 = fcluster(Z2, t=3, criterion='maxclust') \n",
    "\n",
    "def clustering_accuracy(y_true, y_pred):\n",
    "    cm = confusion_matrix(y_true, y_pred)\n",
    "    row_ind, col_ind = linear_sum_assignment(-cm) \n",
    "    return cm[row_ind, col_ind].sum() / np.sum(cm)\n",
    "\n",
    "print(clustering_accuracy(true_labels, cluster_labels1))\n",
    "print(clustering_accuracy(true_labels, cluster_labels2))"
   ]
  }
 ],
 "metadata": {
  "kernelspec": {
   "display_name": "hyperenv_py311",
   "language": "python",
   "name": "python3"
  },
  "language_info": {
   "codemirror_mode": {
    "name": "ipython",
    "version": 3
   },
   "file_extension": ".py",
   "mimetype": "text/x-python",
   "name": "python",
   "nbconvert_exporter": "python",
   "pygments_lexer": "ipython3",
   "version": "3.11.8"
  }
 },
 "nbformat": 4,
 "nbformat_minor": 5
}
