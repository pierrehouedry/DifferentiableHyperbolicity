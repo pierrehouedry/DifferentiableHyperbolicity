{
 "cells": [
  {
   "cell_type": "code",
   "execution_count": 133,
   "id": "dda6a6c7",
   "metadata": {},
   "outputs": [],
   "source": [
    "import numpy as np\n",
    "import matplotlib.pyplot as plt\n",
    "import networkx as nx\n",
    "from scipy.cluster.hierarchy import linkage, dendrogram, fcluster\n",
    "from scipy.spatial.distance import squareform\n",
    "from sklearn.metrics import accuracy_score\n",
    "from scipy.optimize import linear_sum_assignment\n",
    "from hyperbolicity.tree_fitting_methods.hdtree import hdtree\n",
    "from hyperbolicity.delta import compute_exact_hyperbolicity_naive\n",
    "import torch\n",
    "import numpy as np\n",
    "import matplotlib.pyplot as plt\n",
    "import networkx as nx\n",
    "from scipy.cluster.hierarchy import linkage, dendrogram, fcluster\n",
    "from scipy.optimize import linear_sum_assignment\n",
    "from sklearn.metrics import confusion_matrix"
   ]
  },
  {
   "cell_type": "code",
   "execution_count": 188,
   "id": "7a4e3070",
   "metadata": {},
   "outputs": [
    {
     "name": "stdout",
     "output_type": "stream",
     "text": [
      "3\n"
     ]
    }
   ],
   "source": [
    "sizes = [15, 15, 15]\n",
    "probs = [[0.6, 0.15, 0.15],\n",
    "         [0.15, 0.6, 0.15],\n",
    "         [0.15, 0.15, 0.6]]\n",
    "G = nx.stochastic_block_model(sizes, probs, seed=42)\n",
    "n = len(G.nodes)\n",
    "print(nx.diameter(G))\n",
    "true_labels = np.array([G.nodes[i]['block'] for i in range(n)])\n",
    "n = G.number_of_nodes()\n",
    "G.add_node(n)\n",
    "for j in range(n+1):\n",
    "    G.add_weighted_edges_from([(j, n, 100)])\n",
    "\n",
    "dist_matrix = nx.floyd_warshall_numpy(G)"
   ]
  },
  {
   "cell_type": "code",
   "execution_count": 189,
   "id": "be5ecaaa",
   "metadata": {},
   "outputs": [
    {
     "name": "stderr",
     "output_type": "stream",
     "text": [
      "Early stopping triggered:  47%|████▋     | 94/200 [00:04<00:04, 21.57it/s]                        \n"
     ]
    }
   ],
   "source": [
    "tree_opt = hdtree(torch.tensor(dist_matrix), 45, 0.1, 1, 45, 100.0, 20, 200, True, True)"
   ]
  },
  {
   "cell_type": "code",
   "execution_count": 185,
   "id": "bf71ae29",
   "metadata": {},
   "outputs": [
    {
     "data": {
      "text/plain": [
       "<matplotlib.image.AxesImage at 0x7fe77319ad10>"
      ]
     },
     "execution_count": 185,
     "metadata": {},
     "output_type": "execute_result"
    },
    {
     "data": {
      "image/png": "[encoded data removed]",
      "text/plain": [
       "<Figure size 640x480 with 1 Axes>"
      ]
     },
     "metadata": {},
     "output_type": "display_data"
    }
   ],
   "source": [
    "plt.imshow(tree_opt[:-1, :-1])"
   ]
  },
  {
   "cell_type": "code",
   "execution_count": 186,
   "id": "c685fde9",
   "metadata": {},
   "outputs": [
    {
     "data": {
      "text/plain": [
       "<matplotlib.image.AxesImage at 0x7fe7731e7750>"
      ]
     },
     "execution_count": 186,
     "metadata": {},
     "output_type": "execute_result"
    },
    {
     "data": {
      "image/png": "[encoded data removed]",
      "text/plain": [
       "<Figure size 640x480 with 1 Axes>"
      ]
     },
     "metadata": {},
     "output_type": "display_data"
    }
   ],
   "source": [
    "plt.imshow(dist_matrix[:-1, :-1])"
   ]
  },
  {
   "cell_type": "code",
   "execution_count": 187,
   "id": "f2a3c62c",
   "metadata": {},
   "outputs": [
    {
     "name": "stdout",
     "output_type": "stream",
     "text": [
      "0.9111111111111111\n",
      "0.8222222222222222\n"
     ]
    },
    {
     "name": "stderr",
     "output_type": "stream",
     "text": [
      "/tmp/ipykernel_3286608/243381882.py:1: ClusterWarning: The symmetric non-negative hollow observation matrix looks suspiciously like an uncondensed distance matrix\n",
      "  Z1 = linkage(dist_matrix[:-1,:-1], method='ward')\n",
      "/tmp/ipykernel_3286608/243381882.py:2: ClusterWarning: The symmetric non-negative hollow observation matrix looks suspiciously like an uncondensed distance matrix\n",
      "  Z2 = linkage(tree_opt[:-1,:-1], method='ward')\n"
     ]
    }
   ],
   "source": [
    "Z1 = linkage(dist_matrix[:-1,:-1], method='ward')\n",
    "Z2 = linkage(tree_opt[:-1,:-1], method='ward')\n",
    "cluster_labels1 = fcluster(Z1, t=3, criterion='maxclust') \n",
    "cluster_labels2 = fcluster(Z2, t=3, criterion='maxclust') \n",
    "\n",
    "def clustering_accuracy(y_true, y_pred):\n",
    "    cm = confusion_matrix(y_true, y_pred)\n",
    "    row_ind, col_ind = linear_sum_assignment(-cm) \n",
    "    return cm[row_ind, col_ind].sum() / np.sum(cm)\n",
    "\n",
    "print(clustering_accuracy(true_labels, cluster_labels1))\n",
    "print(clustering_accuracy(true_labels, cluster_labels2))"
   ]
  },
  {
   "cell_type": "code",
   "execution_count": null,
   "id": "9af0896b",
   "metadata": {},
   "outputs": [],
   "source": []
  }
 ],
 "metadata": {
  "kernelspec": {
   "display_name": "hyperenv_py311",
   "language": "python",
   "name": "python3"
  },
  "language_info": {
   "codemirror_mode": {
    "name": "ipython",
    "version": 3
   },
   "file_extension": ".py",
   "mimetype": "text/x-python",
   "name": "python",
   "nbconvert_exporter": "python",
   "pygments_lexer": "ipython3",
   "version": "3.11.8"
  }
 },
 "nbformat": 4,
 "nbformat_minor": 5
}
